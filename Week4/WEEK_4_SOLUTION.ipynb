{
 "cells": [
  {
   "cell_type": "code",
   "execution_count": 1,
   "id": "a5df54f6-b932-4363-91a5-beab20acc53e",
   "metadata": {},
   "outputs": [],
   "source": [
    "import sqlite3 as sq\n",
    "import datetime"
   ]
  },
  {
   "cell_type": "code",
   "execution_count": 2,
   "id": "776f8d91-ab26-4ed2-a620-c3dc9aa5cc22",
   "metadata": {},
   "outputs": [],
   "source": [
    "conn = sq.connect(\"cms.db\")"
   ]
  },
  {
   "cell_type": "code",
   "execution_count": 3,
   "id": "1c2d71a7-2adf-484b-a41c-4ac2c944b5a8",
   "metadata": {},
   "outputs": [],
   "source": [
    "cur = conn.cursor()"
   ]
  },
  {
   "cell_type": "code",
   "execution_count": 4,
   "id": "744b02ca-e227-4dcc-a61a-6a66d2bf3daf",
   "metadata": {},
   "outputs": [
    {
     "data": {
      "text/plain": [
       "<sqlite3.Cursor at 0x211b75cc030>"
      ]
     },
     "execution_count": 4,
     "metadata": {},
     "output_type": "execute_result"
    }
   ],
   "source": [
    "cur.execute(\"\"\"create table if not exists contact\n",
    "               ( cid int primary key,\n",
    "                 fname text,\n",
    "                 lname text,\n",
    "                 contact number,\n",
    "                 email text,\n",
    "                 city text\n",
    "                 check ( email like '%_@_%._%')\n",
    "                );\"\"\")"
   ]
  },
  {
   "cell_type": "code",
   "execution_count": 5,
   "id": "0cc598bb-8484-403e-bfe9-db50440b974d",
   "metadata": {},
   "outputs": [
    {
     "data": {
      "text/plain": [
       "<sqlite3.Cursor at 0x211b75cc030>"
      ]
     },
     "execution_count": 5,
     "metadata": {},
     "output_type": "execute_result"
    }
   ],
   "source": [
    "cur.execute(\"\"\"create table if not exists details_log\n",
    "                (\n",
    "                    \n",
    "                    fname text,\n",
    "                    lname text,\n",
    "                    newcontact number,\n",
    "                    oldcontact number,\n",
    "                    datetime text,\n",
    "                    operation text\n",
    "                    \n",
    "                )\"\"\")\n"
   ]
  },
  {
   "cell_type": "code",
   "execution_count": 6,
   "id": "20f6bb38-154b-405e-afac-840af117fc8f",
   "metadata": {},
   "outputs": [
    {
     "data": {
      "text/plain": [
       "<sqlite3.Cursor at 0x211b75cc030>"
      ]
     },
     "execution_count": 6,
     "metadata": {},
     "output_type": "execute_result"
    }
   ],
   "source": [
    "cur.execute(\"\"\"create trigger if not exists insertdata\n",
    "               after insert on contact\n",
    "               begin\n",
    "                   insert into details_log\n",
    "                   values(new.fname,new.lname,new.contact,'NULL',datetime('now'),'insert');\n",
    "               end;\n",
    "                   \"\"\")"
   ]
  },
  {
   "cell_type": "code",
   "execution_count": 7,
   "id": "bc8374d8-2fca-4d66-a700-9f128b0ea174",
   "metadata": {},
   "outputs": [
    {
     "data": {
      "text/plain": [
       "<sqlite3.Cursor at 0x211b75cc030>"
      ]
     },
     "execution_count": 7,
     "metadata": {},
     "output_type": "execute_result"
    }
   ],
   "source": [
    "cur.execute(\"\"\"create trigger if not exists deletedata\n",
    "               after delete on contact\n",
    "               begin\n",
    "                   insert into details_log\n",
    "                   values(old.fname,old.lname,'NULL',old.contact,datetime('now'),'delete');\n",
    "               end;\n",
    "                   \"\"\")"
   ]
  },
  {
   "cell_type": "code",
   "execution_count": 8,
   "id": "bc786d91-36a5-40b1-bdee-79a35d48598e",
   "metadata": {},
   "outputs": [
    {
     "data": {
      "text/plain": [
       "<sqlite3.Cursor at 0x211b75cc030>"
      ]
     },
     "execution_count": 8,
     "metadata": {},
     "output_type": "execute_result"
    }
   ],
   "source": [
    "cur.execute(\"\"\"create trigger if not exists updatedata\n",
    "               after update on contact\n",
    "               begin\n",
    "                   insert into details_log\n",
    "                   values(new.fname,new.lname,new.contact,old.contact,datetime('now'),'update');\n",
    "               end;\n",
    "                   \"\"\")"
   ]
  },
  {
   "cell_type": "code",
   "execution_count": 9,
   "id": "1272fd04-69d6-4e36-a8a4-d35dec7ea548",
   "metadata": {},
   "outputs": [],
   "source": [
    "def updaterecord(cd):\n",
    "    newcon=int(input(\"Enter new Contact Number:\"))\n",
    "    cur.execute(f\"Update contact set contact={newcon} where cid={cd};\")"
   ]
  },
  {
   "cell_type": "code",
   "execution_count": 10,
   "id": "ae5df56b-cc63-4175-8bbb-30e2f165317d",
   "metadata": {},
   "outputs": [],
   "source": [
    "def deleterecord(cd):\n",
    "    cur.execute(f\"delete from contact where cid={cd}\")"
   ]
  },
  {
   "cell_type": "code",
   "execution_count": 11,
   "id": "db44955f-6768-4745-b15d-2c6bef11c269",
   "metadata": {},
   "outputs": [],
   "source": [
    "def searchrecord(cd):\n",
    "    cur.execute(f\"select * from contact where cid={cd}\")\n",
    "    row=cur.fetchall()\n",
    "    print(row)"
   ]
  },
  {
   "cell_type": "code",
   "execution_count": 12,
   "id": "7c84da53-a384-41dc-bd5b-9f6aa9e9d1f1",
   "metadata": {},
   "outputs": [
    {
     "data": {
      "text/plain": [
       "<sqlite3.Cursor at 0x211b75cc030>"
      ]
     },
     "execution_count": 12,
     "metadata": {},
     "output_type": "execute_result"
    }
   ],
   "source": [
    "cur.execute(\"\"\"insert into contact values\n",
    "                (1,'om','kareshwar',9874590750,'om@gmail.com','pune'),\n",
    "                (2,'sai','patel',2431656123,'sai@gmail.com','surat'),\n",
    "                (3,'hanuman','rathod',1234542023,'hanuman@gmail.com','baroda'),\n",
    "                (4,'ram','patil',6789060101,'ram@gmail.com','vyara'),\n",
    "                (5,'radha','shah',1212335745,'radha@gmail.com','mumbai');\"\"\")"
   ]
  },
  {
   "cell_type": "code",
   "execution_count": 13,
   "id": "e6052bb6-ea18-44a2-8ae2-6f40944d546f",
   "metadata": {},
   "outputs": [
    {
     "name": "stdin",
     "output_type": "stream",
     "text": [
      "Enter new Contact Number: 1234567890\n"
     ]
    }
   ],
   "source": [
    "updaterecord(2)"
   ]
  },
  {
   "cell_type": "code",
   "execution_count": 14,
   "id": "d12d9097-6f0b-4699-94c6-57833cefaba0",
   "metadata": {},
   "outputs": [],
   "source": [
    "deleterecord(3)"
   ]
  },
  {
   "cell_type": "code",
   "execution_count": 15,
   "id": "dc323eb8-73cd-41b7-8271-399a40b37635",
   "metadata": {},
   "outputs": [
    {
     "name": "stdout",
     "output_type": "stream",
     "text": [
      "\n",
      "ID:1\n",
      "Fname:om\n",
      "Lname:kareshwar\n",
      "Contact:9874590750\n",
      "Email:om@gmail.com\n",
      "city:pune\n",
      "\n",
      "ID:2\n",
      "Fname:sai\n",
      "Lname:patel\n",
      "Contact:1234567890\n",
      "Email:sai@gmail.com\n",
      "city:surat\n",
      "\n",
      "ID:4\n",
      "Fname:ram\n",
      "Lname:patil\n",
      "Contact:6789060101\n",
      "Email:ram@gmail.com\n",
      "city:vyara\n",
      "\n",
      "ID:5\n",
      "Fname:radha\n",
      "Lname:shah\n",
      "Contact:1212335745\n",
      "Email:radha@gmail.com\n",
      "city:mumbai\n"
     ]
    }
   ],
   "source": [
    "cur.execute(\"select * from contact\")\n",
    "row=cur.fetchall()\n",
    "for i in row:\n",
    "    print(f\"\\nID:{i[0]}\\nFname:{i[1]}\\nLname:{i[2]}\\nContact:{i[3]}\\nEmail:{i[4]}\\ncity:{i[5]}\")"
   ]
  },
  {
   "cell_type": "code",
   "execution_count": 16,
   "id": "6c6b3097-f4a4-480f-83cd-cbe702eda797",
   "metadata": {},
   "outputs": [
    {
     "name": "stdout",
     "output_type": "stream",
     "text": [
      "[('om', 'kareshwar', 9874590750, 'NULL', '2023-08-08 11:27:08', 'insert'), ('sai', 'patel', 2431656123, 'NULL', '2023-08-08 11:27:08', 'insert'), ('hanuman', 'rathod', 1234542023, 'NULL', '2023-08-08 11:27:08', 'insert'), ('ram', 'patil', 6789060101, 'NULL', '2023-08-08 11:27:08', 'insert'), ('radha', 'shah', 1212335745, 'NULL', '2023-08-08 11:27:08', 'insert'), ('sai', 'patel', 1234567890, 2431656123, '2023-08-08 11:27:46', 'update'), ('hanuman', 'rathod', 'NULL', 1234542023, '2023-08-08 11:28:11', 'delete')]\n",
      "\n",
      "Fname:om\n",
      "Lname:kareshwar\n",
      "New-contact:9874590750\n",
      "Old-Contact:NULL\n",
      "Datetime:2023-08-08 11:27:08\n",
      "Operation:insert\n",
      "\n",
      "Fname:sai\n",
      "Lname:patel\n",
      "New-contact:2431656123\n",
      "Old-Contact:NULL\n",
      "Datetime:2023-08-08 11:27:08\n",
      "Operation:insert\n",
      "\n",
      "Fname:hanuman\n",
      "Lname:rathod\n",
      "New-contact:1234542023\n",
      "Old-Contact:NULL\n",
      "Datetime:2023-08-08 11:27:08\n",
      "Operation:insert\n",
      "\n",
      "Fname:ram\n",
      "Lname:patil\n",
      "New-contact:6789060101\n",
      "Old-Contact:NULL\n",
      "Datetime:2023-08-08 11:27:08\n",
      "Operation:insert\n",
      "\n",
      "Fname:radha\n",
      "Lname:shah\n",
      "New-contact:1212335745\n",
      "Old-Contact:NULL\n",
      "Datetime:2023-08-08 11:27:08\n",
      "Operation:insert\n",
      "\n",
      "Fname:sai\n",
      "Lname:patel\n",
      "New-contact:1234567890\n",
      "Old-Contact:2431656123\n",
      "Datetime:2023-08-08 11:27:46\n",
      "Operation:update\n",
      "\n",
      "Fname:hanuman\n",
      "Lname:rathod\n",
      "New-contact:NULL\n",
      "Old-Contact:1234542023\n",
      "Datetime:2023-08-08 11:28:11\n",
      "Operation:delete\n"
     ]
    }
   ],
   "source": [
    "cur.execute(\"select * from details_log\")\n",
    "row1=cur.fetchall()\n",
    "print(row1)\n",
    "for i in row1:\n",
    "    print(f\"\\nFname:{i[0]}\\nLname:{i[1]}\\nNew-contact:{i[2]}\\nOld-Contact:{i[3]}\\nDatetime:{i[4]}\\nOperation:{i[5]}\")"
   ]
  },
  {
   "cell_type": "code",
   "execution_count": null,
   "id": "81d1e6f9-7b7a-4105-9f5b-962397c227a8",
   "metadata": {},
   "outputs": [],
   "source": []
  }
 ],
 "metadata": {
  "kernelspec": {
   "display_name": "Python 3 (ipykernel)",
   "language": "python",
   "name": "python3"
  },
  "language_info": {
   "codemirror_mode": {
    "name": "ipython",
    "version": 3
   },
   "file_extension": ".py",
   "mimetype": "text/x-python",
   "name": "python",
   "nbconvert_exporter": "python",
   "pygments_lexer": "ipython3",
   "version": "3.9.6"
  }
 },
 "nbformat": 4,
 "nbformat_minor": 5
}
